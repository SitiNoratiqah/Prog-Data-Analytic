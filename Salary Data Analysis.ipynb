{
 "cells": [
  {
   "cell_type": "code",
   "execution_count": 1,
   "id": "8b4d451c",
   "metadata": {},
   "outputs": [],
   "source": [
    "import numpy as np\n",
    "import pandas as pd\n",
    "import seaborn as sns\n",
    "import matplotlib.pyplot as plt"
   ]
  },
  {
   "cell_type": "code",
   "execution_count": 2,
   "id": "4689d235",
   "metadata": {},
   "outputs": [],
   "source": [
    "try:\n",
    "    # Attempt to read the CSV file\n",
    "    salary = pd.read_csv('Salary_Data.csv')\n",
    "    \n",
    "    # Continue with further data processing\n",
    "    \n",
    "except pd.errors.ParserError:\n",
    "    # Handle the case when the CSV file cannot be read\n",
    "    print(\"Error: Unable to read the CSV file.\")\n",
    "    # Additional error handling or alternative actions can be performed here\n"
   ]
  },
  {
   "cell_type": "code",
   "execution_count": 3,
   "id": "796c8f40",
   "metadata": {},
   "outputs": [
    {
     "data": {
      "text/html": [
       "<div>\n",
       "<style scoped>\n",
       "    .dataframe tbody tr th:only-of-type {\n",
       "        vertical-align: middle;\n",
       "    }\n",
       "\n",
       "    .dataframe tbody tr th {\n",
       "        vertical-align: top;\n",
       "    }\n",
       "\n",
       "    .dataframe thead th {\n",
       "        text-align: right;\n",
       "    }\n",
       "</style>\n",
       "<table border=\"1\" class=\"dataframe\">\n",
       "  <thead>\n",
       "    <tr style=\"text-align: right;\">\n",
       "      <th></th>\n",
       "      <th>Age</th>\n",
       "      <th>Gender</th>\n",
       "      <th>Education Level</th>\n",
       "      <th>Job Title</th>\n",
       "      <th>Years of Experience</th>\n",
       "      <th>Salary</th>\n",
       "    </tr>\n",
       "  </thead>\n",
       "  <tbody>\n",
       "    <tr>\n",
       "      <th>0</th>\n",
       "      <td>32.0</td>\n",
       "      <td>Male</td>\n",
       "      <td>Bachelor's</td>\n",
       "      <td>Software Engineer</td>\n",
       "      <td>5.0</td>\n",
       "      <td>90000.0</td>\n",
       "    </tr>\n",
       "    <tr>\n",
       "      <th>1</th>\n",
       "      <td>28.0</td>\n",
       "      <td>Female</td>\n",
       "      <td>Master's</td>\n",
       "      <td>Data Analyst</td>\n",
       "      <td>3.0</td>\n",
       "      <td>65000.0</td>\n",
       "    </tr>\n",
       "    <tr>\n",
       "      <th>2</th>\n",
       "      <td>45.0</td>\n",
       "      <td>Male</td>\n",
       "      <td>PhD</td>\n",
       "      <td>Senior Manager</td>\n",
       "      <td>15.0</td>\n",
       "      <td>150000.0</td>\n",
       "    </tr>\n",
       "    <tr>\n",
       "      <th>3</th>\n",
       "      <td>36.0</td>\n",
       "      <td>Female</td>\n",
       "      <td>Bachelor's</td>\n",
       "      <td>Sales Associate</td>\n",
       "      <td>7.0</td>\n",
       "      <td>60000.0</td>\n",
       "    </tr>\n",
       "    <tr>\n",
       "      <th>4</th>\n",
       "      <td>52.0</td>\n",
       "      <td>Male</td>\n",
       "      <td>Master's</td>\n",
       "      <td>Director</td>\n",
       "      <td>20.0</td>\n",
       "      <td>200000.0</td>\n",
       "    </tr>\n",
       "    <tr>\n",
       "      <th>...</th>\n",
       "      <td>...</td>\n",
       "      <td>...</td>\n",
       "      <td>...</td>\n",
       "      <td>...</td>\n",
       "      <td>...</td>\n",
       "      <td>...</td>\n",
       "    </tr>\n",
       "    <tr>\n",
       "      <th>6699</th>\n",
       "      <td>49.0</td>\n",
       "      <td>Female</td>\n",
       "      <td>PhD</td>\n",
       "      <td>Director of Marketing</td>\n",
       "      <td>20.0</td>\n",
       "      <td>200000.0</td>\n",
       "    </tr>\n",
       "    <tr>\n",
       "      <th>6700</th>\n",
       "      <td>32.0</td>\n",
       "      <td>Male</td>\n",
       "      <td>High School</td>\n",
       "      <td>Sales Associate</td>\n",
       "      <td>3.0</td>\n",
       "      <td>50000.0</td>\n",
       "    </tr>\n",
       "    <tr>\n",
       "      <th>6701</th>\n",
       "      <td>30.0</td>\n",
       "      <td>Female</td>\n",
       "      <td>Bachelor's Degree</td>\n",
       "      <td>Financial Manager</td>\n",
       "      <td>4.0</td>\n",
       "      <td>55000.0</td>\n",
       "    </tr>\n",
       "    <tr>\n",
       "      <th>6702</th>\n",
       "      <td>46.0</td>\n",
       "      <td>Male</td>\n",
       "      <td>Master's Degree</td>\n",
       "      <td>Marketing Manager</td>\n",
       "      <td>14.0</td>\n",
       "      <td>140000.0</td>\n",
       "    </tr>\n",
       "    <tr>\n",
       "      <th>6703</th>\n",
       "      <td>26.0</td>\n",
       "      <td>Female</td>\n",
       "      <td>High School</td>\n",
       "      <td>Sales Executive</td>\n",
       "      <td>1.0</td>\n",
       "      <td>35000.0</td>\n",
       "    </tr>\n",
       "  </tbody>\n",
       "</table>\n",
       "<p>6704 rows × 6 columns</p>\n",
       "</div>"
      ],
      "text/plain": [
       "       Age  Gender    Education Level              Job Title  \\\n",
       "0     32.0    Male         Bachelor's      Software Engineer   \n",
       "1     28.0  Female           Master's           Data Analyst   \n",
       "2     45.0    Male                PhD         Senior Manager   \n",
       "3     36.0  Female         Bachelor's        Sales Associate   \n",
       "4     52.0    Male           Master's               Director   \n",
       "...    ...     ...                ...                    ...   \n",
       "6699  49.0  Female                PhD  Director of Marketing   \n",
       "6700  32.0    Male        High School        Sales Associate   \n",
       "6701  30.0  Female  Bachelor's Degree      Financial Manager   \n",
       "6702  46.0    Male    Master's Degree      Marketing Manager   \n",
       "6703  26.0  Female        High School        Sales Executive   \n",
       "\n",
       "      Years of Experience    Salary  \n",
       "0                     5.0   90000.0  \n",
       "1                     3.0   65000.0  \n",
       "2                    15.0  150000.0  \n",
       "3                     7.0   60000.0  \n",
       "4                    20.0  200000.0  \n",
       "...                   ...       ...  \n",
       "6699                 20.0  200000.0  \n",
       "6700                  3.0   50000.0  \n",
       "6701                  4.0   55000.0  \n",
       "6702                 14.0  140000.0  \n",
       "6703                  1.0   35000.0  \n",
       "\n",
       "[6704 rows x 6 columns]"
      ]
     },
     "execution_count": 3,
     "metadata": {},
     "output_type": "execute_result"
    }
   ],
   "source": [
    "salary"
   ]
  },
  {
   "cell_type": "code",
   "execution_count": 4,
   "id": "1cc4a942",
   "metadata": {},
   "outputs": [
    {
     "data": {
      "text/plain": [
       "(6704, 6)"
      ]
     },
     "execution_count": 4,
     "metadata": {},
     "output_type": "execute_result"
    }
   ],
   "source": [
    "salary.shape"
   ]
  },
  {
   "cell_type": "code",
   "execution_count": 5,
   "id": "c2c33377",
   "metadata": {},
   "outputs": [
    {
     "name": "stdout",
     "output_type": "stream",
     "text": [
      "<class 'pandas.core.frame.DataFrame'>\n",
      "RangeIndex: 6704 entries, 0 to 6703\n",
      "Data columns (total 6 columns):\n",
      " #   Column               Non-Null Count  Dtype  \n",
      "---  ------               --------------  -----  \n",
      " 0   Age                  6702 non-null   float64\n",
      " 1   Gender               6702 non-null   object \n",
      " 2   Education Level      6701 non-null   object \n",
      " 3   Job Title            6702 non-null   object \n",
      " 4   Years of Experience  6701 non-null   float64\n",
      " 5   Salary               6699 non-null   float64\n",
      "dtypes: float64(3), object(3)\n",
      "memory usage: 314.4+ KB\n"
     ]
    }
   ],
   "source": [
    "salary.info()"
   ]
  },
  {
   "cell_type": "code",
   "execution_count": 6,
   "id": "9aa145af",
   "metadata": {
    "scrolled": true
   },
   "outputs": [
    {
     "data": {
      "text/html": [
       "<div>\n",
       "<style scoped>\n",
       "    .dataframe tbody tr th:only-of-type {\n",
       "        vertical-align: middle;\n",
       "    }\n",
       "\n",
       "    .dataframe tbody tr th {\n",
       "        vertical-align: top;\n",
       "    }\n",
       "\n",
       "    .dataframe thead th {\n",
       "        text-align: right;\n",
       "    }\n",
       "</style>\n",
       "<table border=\"1\" class=\"dataframe\">\n",
       "  <thead>\n",
       "    <tr style=\"text-align: right;\">\n",
       "      <th></th>\n",
       "      <th>Age</th>\n",
       "      <th>Years of Experience</th>\n",
       "      <th>Salary</th>\n",
       "    </tr>\n",
       "  </thead>\n",
       "  <tbody>\n",
       "    <tr>\n",
       "      <th>count</th>\n",
       "      <td>6702.000000</td>\n",
       "      <td>6701.000000</td>\n",
       "      <td>6699.000000</td>\n",
       "    </tr>\n",
       "    <tr>\n",
       "      <th>mean</th>\n",
       "      <td>33.620859</td>\n",
       "      <td>8.094687</td>\n",
       "      <td>115326.964771</td>\n",
       "    </tr>\n",
       "    <tr>\n",
       "      <th>std</th>\n",
       "      <td>7.614633</td>\n",
       "      <td>6.059003</td>\n",
       "      <td>52786.183911</td>\n",
       "    </tr>\n",
       "    <tr>\n",
       "      <th>min</th>\n",
       "      <td>21.000000</td>\n",
       "      <td>0.000000</td>\n",
       "      <td>350.000000</td>\n",
       "    </tr>\n",
       "    <tr>\n",
       "      <th>25%</th>\n",
       "      <td>28.000000</td>\n",
       "      <td>3.000000</td>\n",
       "      <td>70000.000000</td>\n",
       "    </tr>\n",
       "    <tr>\n",
       "      <th>50%</th>\n",
       "      <td>32.000000</td>\n",
       "      <td>7.000000</td>\n",
       "      <td>115000.000000</td>\n",
       "    </tr>\n",
       "    <tr>\n",
       "      <th>75%</th>\n",
       "      <td>38.000000</td>\n",
       "      <td>12.000000</td>\n",
       "      <td>160000.000000</td>\n",
       "    </tr>\n",
       "    <tr>\n",
       "      <th>max</th>\n",
       "      <td>62.000000</td>\n",
       "      <td>34.000000</td>\n",
       "      <td>250000.000000</td>\n",
       "    </tr>\n",
       "  </tbody>\n",
       "</table>\n",
       "</div>"
      ],
      "text/plain": [
       "               Age  Years of Experience         Salary\n",
       "count  6702.000000          6701.000000    6699.000000\n",
       "mean     33.620859             8.094687  115326.964771\n",
       "std       7.614633             6.059003   52786.183911\n",
       "min      21.000000             0.000000     350.000000\n",
       "25%      28.000000             3.000000   70000.000000\n",
       "50%      32.000000             7.000000  115000.000000\n",
       "75%      38.000000            12.000000  160000.000000\n",
       "max      62.000000            34.000000  250000.000000"
      ]
     },
     "execution_count": 6,
     "metadata": {},
     "output_type": "execute_result"
    }
   ],
   "source": [
    "salary.describe()"
   ]
  },
  {
   "cell_type": "code",
   "execution_count": 7,
   "id": "7345eb84",
   "metadata": {},
   "outputs": [],
   "source": [
    "salary.dropna(inplace=True) #drop undetectable data"
   ]
  },
  {
   "cell_type": "code",
   "execution_count": 8,
   "id": "f8c1f6b6",
   "metadata": {
    "scrolled": true
   },
   "outputs": [
    {
     "data": {
      "text/html": [
       "<div>\n",
       "<style scoped>\n",
       "    .dataframe tbody tr th:only-of-type {\n",
       "        vertical-align: middle;\n",
       "    }\n",
       "\n",
       "    .dataframe tbody tr th {\n",
       "        vertical-align: top;\n",
       "    }\n",
       "\n",
       "    .dataframe thead th {\n",
       "        text-align: right;\n",
       "    }\n",
       "</style>\n",
       "<table border=\"1\" class=\"dataframe\">\n",
       "  <thead>\n",
       "    <tr style=\"text-align: right;\">\n",
       "      <th></th>\n",
       "      <th>Age</th>\n",
       "      <th>Gender</th>\n",
       "      <th>Education Level</th>\n",
       "      <th>Job Title</th>\n",
       "      <th>Years of Experience</th>\n",
       "      <th>Salary</th>\n",
       "    </tr>\n",
       "  </thead>\n",
       "  <tbody>\n",
       "    <tr>\n",
       "      <th>count</th>\n",
       "      <td>6698.000000</td>\n",
       "      <td>6698</td>\n",
       "      <td>6698</td>\n",
       "      <td>6698</td>\n",
       "      <td>6698.000000</td>\n",
       "      <td>6698.000000</td>\n",
       "    </tr>\n",
       "    <tr>\n",
       "      <th>unique</th>\n",
       "      <td>NaN</td>\n",
       "      <td>3</td>\n",
       "      <td>7</td>\n",
       "      <td>191</td>\n",
       "      <td>NaN</td>\n",
       "      <td>NaN</td>\n",
       "    </tr>\n",
       "    <tr>\n",
       "      <th>top</th>\n",
       "      <td>NaN</td>\n",
       "      <td>Male</td>\n",
       "      <td>Bachelor's Degree</td>\n",
       "      <td>Software Engineer</td>\n",
       "      <td>NaN</td>\n",
       "      <td>NaN</td>\n",
       "    </tr>\n",
       "    <tr>\n",
       "      <th>freq</th>\n",
       "      <td>NaN</td>\n",
       "      <td>3671</td>\n",
       "      <td>2265</td>\n",
       "      <td>518</td>\n",
       "      <td>NaN</td>\n",
       "      <td>NaN</td>\n",
       "    </tr>\n",
       "    <tr>\n",
       "      <th>mean</th>\n",
       "      <td>33.623022</td>\n",
       "      <td>NaN</td>\n",
       "      <td>NaN</td>\n",
       "      <td>NaN</td>\n",
       "      <td>8.095178</td>\n",
       "      <td>115329.253061</td>\n",
       "    </tr>\n",
       "    <tr>\n",
       "      <th>std</th>\n",
       "      <td>7.615784</td>\n",
       "      <td>NaN</td>\n",
       "      <td>NaN</td>\n",
       "      <td>NaN</td>\n",
       "      <td>6.060291</td>\n",
       "      <td>52789.792507</td>\n",
       "    </tr>\n",
       "    <tr>\n",
       "      <th>min</th>\n",
       "      <td>21.000000</td>\n",
       "      <td>NaN</td>\n",
       "      <td>NaN</td>\n",
       "      <td>NaN</td>\n",
       "      <td>0.000000</td>\n",
       "      <td>350.000000</td>\n",
       "    </tr>\n",
       "    <tr>\n",
       "      <th>25%</th>\n",
       "      <td>28.000000</td>\n",
       "      <td>NaN</td>\n",
       "      <td>NaN</td>\n",
       "      <td>NaN</td>\n",
       "      <td>3.000000</td>\n",
       "      <td>70000.000000</td>\n",
       "    </tr>\n",
       "    <tr>\n",
       "      <th>50%</th>\n",
       "      <td>32.000000</td>\n",
       "      <td>NaN</td>\n",
       "      <td>NaN</td>\n",
       "      <td>NaN</td>\n",
       "      <td>7.000000</td>\n",
       "      <td>115000.000000</td>\n",
       "    </tr>\n",
       "    <tr>\n",
       "      <th>75%</th>\n",
       "      <td>38.000000</td>\n",
       "      <td>NaN</td>\n",
       "      <td>NaN</td>\n",
       "      <td>NaN</td>\n",
       "      <td>12.000000</td>\n",
       "      <td>160000.000000</td>\n",
       "    </tr>\n",
       "    <tr>\n",
       "      <th>max</th>\n",
       "      <td>62.000000</td>\n",
       "      <td>NaN</td>\n",
       "      <td>NaN</td>\n",
       "      <td>NaN</td>\n",
       "      <td>34.000000</td>\n",
       "      <td>250000.000000</td>\n",
       "    </tr>\n",
       "  </tbody>\n",
       "</table>\n",
       "</div>"
      ],
      "text/plain": [
       "                Age Gender    Education Level          Job Title  \\\n",
       "count   6698.000000   6698               6698               6698   \n",
       "unique          NaN      3                  7                191   \n",
       "top             NaN   Male  Bachelor's Degree  Software Engineer   \n",
       "freq            NaN   3671               2265                518   \n",
       "mean      33.623022    NaN                NaN                NaN   \n",
       "std        7.615784    NaN                NaN                NaN   \n",
       "min       21.000000    NaN                NaN                NaN   \n",
       "25%       28.000000    NaN                NaN                NaN   \n",
       "50%       32.000000    NaN                NaN                NaN   \n",
       "75%       38.000000    NaN                NaN                NaN   \n",
       "max       62.000000    NaN                NaN                NaN   \n",
       "\n",
       "        Years of Experience         Salary  \n",
       "count           6698.000000    6698.000000  \n",
       "unique                  NaN            NaN  \n",
       "top                     NaN            NaN  \n",
       "freq                    NaN            NaN  \n",
       "mean               8.095178  115329.253061  \n",
       "std                6.060291   52789.792507  \n",
       "min                0.000000     350.000000  \n",
       "25%                3.000000   70000.000000  \n",
       "50%                7.000000  115000.000000  \n",
       "75%               12.000000  160000.000000  \n",
       "max               34.000000  250000.000000  "
      ]
     },
     "execution_count": 8,
     "metadata": {},
     "output_type": "execute_result"
    }
   ],
   "source": [
    "salary.describe(include='all')"
   ]
  },
  {
   "cell_type": "code",
   "execution_count": 9,
   "id": "f0974142",
   "metadata": {},
   "outputs": [
    {
     "data": {
      "image/png": "[encoded data removed]",
      "text/plain": [
       "<Figure size 1200x800 with 4 Axes>"
      ]
     },
     "metadata": {},
     "output_type": "display_data"
    }
   ],
   "source": [
    "Column = ['Age', 'Gender', 'Education Level', 'Job Title', 'Years of Experience', 'Salary']\n",
    "\n",
    "# Plot histograms for each column\n",
    "salary[Column].hist(bins=10, figsize=(12, 8))\n",
    "\n",
    "# Set titles and labels for the histograms\n",
    "plt.suptitle('Histograms for Salary', fontsize=16)\n",
    "plt.tight_layout()\n",
    "plt.show()"
   ]
  },
  {
   "cell_type": "code",
   "execution_count": 11,
   "id": "98c58145",
   "metadata": {},
   "outputs": [],
   "source": [
    "increment_factor = 0.102\n",
    "total_increment = salary['Salary'] * increment_factor"
   ]
  },
  {
   "cell_type": "code",
   "execution_count": 12,
   "id": "f8cb0038",
   "metadata": {},
   "outputs": [
    {
     "data": {
      "text/plain": [
       "0        9180.0\n",
       "1        6630.0\n",
       "2       15300.0\n",
       "3        6120.0\n",
       "4       20400.0\n",
       "         ...   \n",
       "6699    20400.0\n",
       "6700     5100.0\n",
       "6701     5610.0\n",
       "6702    14280.0\n",
       "6703     3570.0\n",
       "Name: Salary, Length: 6698, dtype: float64"
      ]
     },
     "execution_count": 12,
     "metadata": {},
     "output_type": "execute_result"
    }
   ],
   "source": [
    "total_increment"
   ]
  },
  {
   "cell_type": "code",
   "execution_count": 13,
   "id": "265f9a2f",
   "metadata": {},
   "outputs": [],
   "source": [
    "original_salary = salary ['Salary'] - total_increment"
   ]
  },
  {
   "cell_type": "code",
   "execution_count": 14,
   "id": "2e9de82c",
   "metadata": {},
   "outputs": [
    {
     "data": {
      "text/plain": [
       "0        80820.0\n",
       "1        58370.0\n",
       "2       134700.0\n",
       "3        53880.0\n",
       "4       179600.0\n",
       "          ...   \n",
       "6699    179600.0\n",
       "6700     44900.0\n",
       "6701     49390.0\n",
       "6702    125720.0\n",
       "6703     31430.0\n",
       "Name: Salary, Length: 6698, dtype: float64"
      ]
     },
     "execution_count": 14,
     "metadata": {},
     "output_type": "execute_result"
    }
   ],
   "source": [
    "original_salary"
   ]
  },
  {
   "cell_type": "code",
   "execution_count": 15,
   "id": "d25ad437",
   "metadata": {},
   "outputs": [],
   "source": [
    "#insert to new column\n",
    "salary.insert(6, 'Original Salary', original_salary)"
   ]
  },
  {
   "cell_type": "code",
   "execution_count": 16,
   "id": "09122d95",
   "metadata": {},
   "outputs": [
    {
     "data": {
      "text/html": [
       "<div>\n",
       "<style scoped>\n",
       "    .dataframe tbody tr th:only-of-type {\n",
       "        vertical-align: middle;\n",
       "    }\n",
       "\n",
       "    .dataframe tbody tr th {\n",
       "        vertical-align: top;\n",
       "    }\n",
       "\n",
       "    .dataframe thead th {\n",
       "        text-align: right;\n",
       "    }\n",
       "</style>\n",
       "<table border=\"1\" class=\"dataframe\">\n",
       "  <thead>\n",
       "    <tr style=\"text-align: right;\">\n",
       "      <th></th>\n",
       "      <th>Age</th>\n",
       "      <th>Gender</th>\n",
       "      <th>Education Level</th>\n",
       "      <th>Job Title</th>\n",
       "      <th>Years of Experience</th>\n",
       "      <th>Salary</th>\n",
       "      <th>Original Salary</th>\n",
       "    </tr>\n",
       "  </thead>\n",
       "  <tbody>\n",
       "    <tr>\n",
       "      <th>0</th>\n",
       "      <td>32.0</td>\n",
       "      <td>Male</td>\n",
       "      <td>Bachelor's</td>\n",
       "      <td>Software Engineer</td>\n",
       "      <td>5.0</td>\n",
       "      <td>90000.0</td>\n",
       "      <td>80820.0</td>\n",
       "    </tr>\n",
       "    <tr>\n",
       "      <th>1</th>\n",
       "      <td>28.0</td>\n",
       "      <td>Female</td>\n",
       "      <td>Master's</td>\n",
       "      <td>Data Analyst</td>\n",
       "      <td>3.0</td>\n",
       "      <td>65000.0</td>\n",
       "      <td>58370.0</td>\n",
       "    </tr>\n",
       "    <tr>\n",
       "      <th>2</th>\n",
       "      <td>45.0</td>\n",
       "      <td>Male</td>\n",
       "      <td>PhD</td>\n",
       "      <td>Senior Manager</td>\n",
       "      <td>15.0</td>\n",
       "      <td>150000.0</td>\n",
       "      <td>134700.0</td>\n",
       "    </tr>\n",
       "    <tr>\n",
       "      <th>3</th>\n",
       "      <td>36.0</td>\n",
       "      <td>Female</td>\n",
       "      <td>Bachelor's</td>\n",
       "      <td>Sales Associate</td>\n",
       "      <td>7.0</td>\n",
       "      <td>60000.0</td>\n",
       "      <td>53880.0</td>\n",
       "    </tr>\n",
       "    <tr>\n",
       "      <th>4</th>\n",
       "      <td>52.0</td>\n",
       "      <td>Male</td>\n",
       "      <td>Master's</td>\n",
       "      <td>Director</td>\n",
       "      <td>20.0</td>\n",
       "      <td>200000.0</td>\n",
       "      <td>179600.0</td>\n",
       "    </tr>\n",
       "    <tr>\n",
       "      <th>...</th>\n",
       "      <td>...</td>\n",
       "      <td>...</td>\n",
       "      <td>...</td>\n",
       "      <td>...</td>\n",
       "      <td>...</td>\n",
       "      <td>...</td>\n",
       "      <td>...</td>\n",
       "    </tr>\n",
       "    <tr>\n",
       "      <th>6699</th>\n",
       "      <td>49.0</td>\n",
       "      <td>Female</td>\n",
       "      <td>PhD</td>\n",
       "      <td>Director of Marketing</td>\n",
       "      <td>20.0</td>\n",
       "      <td>200000.0</td>\n",
       "      <td>179600.0</td>\n",
       "    </tr>\n",
       "    <tr>\n",
       "      <th>6700</th>\n",
       "      <td>32.0</td>\n",
       "      <td>Male</td>\n",
       "      <td>High School</td>\n",
       "      <td>Sales Associate</td>\n",
       "      <td>3.0</td>\n",
       "      <td>50000.0</td>\n",
       "      <td>44900.0</td>\n",
       "    </tr>\n",
       "    <tr>\n",
       "      <th>6701</th>\n",
       "      <td>30.0</td>\n",
       "      <td>Female</td>\n",
       "      <td>Bachelor's Degree</td>\n",
       "      <td>Financial Manager</td>\n",
       "      <td>4.0</td>\n",
       "      <td>55000.0</td>\n",
       "      <td>49390.0</td>\n",
       "    </tr>\n",
       "    <tr>\n",
       "      <th>6702</th>\n",
       "      <td>46.0</td>\n",
       "      <td>Male</td>\n",
       "      <td>Master's Degree</td>\n",
       "      <td>Marketing Manager</td>\n",
       "      <td>14.0</td>\n",
       "      <td>140000.0</td>\n",
       "      <td>125720.0</td>\n",
       "    </tr>\n",
       "    <tr>\n",
       "      <th>6703</th>\n",
       "      <td>26.0</td>\n",
       "      <td>Female</td>\n",
       "      <td>High School</td>\n",
       "      <td>Sales Executive</td>\n",
       "      <td>1.0</td>\n",
       "      <td>35000.0</td>\n",
       "      <td>31430.0</td>\n",
       "    </tr>\n",
       "  </tbody>\n",
       "</table>\n",
       "<p>6698 rows × 7 columns</p>\n",
       "</div>"
      ],
      "text/plain": [
       "       Age  Gender    Education Level              Job Title  \\\n",
       "0     32.0    Male         Bachelor's      Software Engineer   \n",
       "1     28.0  Female           Master's           Data Analyst   \n",
       "2     45.0    Male                PhD         Senior Manager   \n",
       "3     36.0  Female         Bachelor's        Sales Associate   \n",
       "4     52.0    Male           Master's               Director   \n",
       "...    ...     ...                ...                    ...   \n",
       "6699  49.0  Female                PhD  Director of Marketing   \n",
       "6700  32.0    Male        High School        Sales Associate   \n",
       "6701  30.0  Female  Bachelor's Degree      Financial Manager   \n",
       "6702  46.0    Male    Master's Degree      Marketing Manager   \n",
       "6703  26.0  Female        High School        Sales Executive   \n",
       "\n",
       "      Years of Experience    Salary  Original Salary  \n",
       "0                     5.0   90000.0          80820.0  \n",
       "1                     3.0   65000.0          58370.0  \n",
       "2                    15.0  150000.0         134700.0  \n",
       "3                     7.0   60000.0          53880.0  \n",
       "4                    20.0  200000.0         179600.0  \n",
       "...                   ...       ...              ...  \n",
       "6699                 20.0  200000.0         179600.0  \n",
       "6700                  3.0   50000.0          44900.0  \n",
       "6701                  4.0   55000.0          49390.0  \n",
       "6702                 14.0  140000.0         125720.0  \n",
       "6703                  1.0   35000.0          31430.0  \n",
       "\n",
       "[6698 rows x 7 columns]"
      ]
     },
     "execution_count": 16,
     "metadata": {},
     "output_type": "execute_result"
    }
   ],
   "source": [
    "salary"
   ]
  },
  {
   "cell_type": "code",
   "execution_count": 17,
   "id": "55344326",
   "metadata": {},
   "outputs": [
    {
     "data": {
      "text/html": [
       "<div>\n",
       "<style scoped>\n",
       "    .dataframe tbody tr th:only-of-type {\n",
       "        vertical-align: middle;\n",
       "    }\n",
       "\n",
       "    .dataframe tbody tr th {\n",
       "        vertical-align: top;\n",
       "    }\n",
       "\n",
       "    .dataframe thead th {\n",
       "        text-align: right;\n",
       "    }\n",
       "</style>\n",
       "<table border=\"1\" class=\"dataframe\">\n",
       "  <thead>\n",
       "    <tr style=\"text-align: right;\">\n",
       "      <th></th>\n",
       "      <th>Age</th>\n",
       "      <th>Gender</th>\n",
       "      <th>Education Level</th>\n",
       "      <th>Job Title</th>\n",
       "      <th>Years of Experience</th>\n",
       "      <th>Salary</th>\n",
       "      <th>Original Salary</th>\n",
       "    </tr>\n",
       "  </thead>\n",
       "  <tbody>\n",
       "    <tr>\n",
       "      <th>83</th>\n",
       "      <td>52.0</td>\n",
       "      <td>Male</td>\n",
       "      <td>PhD</td>\n",
       "      <td>Chief Technology Officer</td>\n",
       "      <td>24.0</td>\n",
       "      <td>250000.0</td>\n",
       "      <td>224500.0</td>\n",
       "    </tr>\n",
       "    <tr>\n",
       "      <th>30</th>\n",
       "      <td>50.0</td>\n",
       "      <td>Male</td>\n",
       "      <td>Bachelor's</td>\n",
       "      <td>CEO</td>\n",
       "      <td>25.0</td>\n",
       "      <td>250000.0</td>\n",
       "      <td>224500.0</td>\n",
       "    </tr>\n",
       "    <tr>\n",
       "      <th>5001</th>\n",
       "      <td>45.0</td>\n",
       "      <td>Male</td>\n",
       "      <td>Bachelor's Degree</td>\n",
       "      <td>Financial Manager</td>\n",
       "      <td>21.0</td>\n",
       "      <td>250000.0</td>\n",
       "      <td>224500.0</td>\n",
       "    </tr>\n",
       "    <tr>\n",
       "      <th>4276</th>\n",
       "      <td>51.0</td>\n",
       "      <td>Male</td>\n",
       "      <td>PhD</td>\n",
       "      <td>Data Scientist</td>\n",
       "      <td>24.0</td>\n",
       "      <td>240000.0</td>\n",
       "      <td>215520.0</td>\n",
       "    </tr>\n",
       "    <tr>\n",
       "      <th>4306</th>\n",
       "      <td>51.0</td>\n",
       "      <td>Male</td>\n",
       "      <td>PhD</td>\n",
       "      <td>Data Scientist</td>\n",
       "      <td>24.0</td>\n",
       "      <td>240000.0</td>\n",
       "      <td>215520.0</td>\n",
       "    </tr>\n",
       "    <tr>\n",
       "      <th>4291</th>\n",
       "      <td>51.0</td>\n",
       "      <td>Male</td>\n",
       "      <td>PhD</td>\n",
       "      <td>Data Scientist</td>\n",
       "      <td>24.0</td>\n",
       "      <td>240000.0</td>\n",
       "      <td>215520.0</td>\n",
       "    </tr>\n",
       "    <tr>\n",
       "      <th>4336</th>\n",
       "      <td>51.0</td>\n",
       "      <td>Male</td>\n",
       "      <td>PhD</td>\n",
       "      <td>Data Scientist</td>\n",
       "      <td>24.0</td>\n",
       "      <td>240000.0</td>\n",
       "      <td>215520.0</td>\n",
       "    </tr>\n",
       "    <tr>\n",
       "      <th>4351</th>\n",
       "      <td>51.0</td>\n",
       "      <td>Male</td>\n",
       "      <td>PhD</td>\n",
       "      <td>Data Scientist</td>\n",
       "      <td>24.0</td>\n",
       "      <td>240000.0</td>\n",
       "      <td>215520.0</td>\n",
       "    </tr>\n",
       "    <tr>\n",
       "      <th>4381</th>\n",
       "      <td>51.0</td>\n",
       "      <td>Male</td>\n",
       "      <td>PhD</td>\n",
       "      <td>Data Scientist</td>\n",
       "      <td>24.0</td>\n",
       "      <td>240000.0</td>\n",
       "      <td>215520.0</td>\n",
       "    </tr>\n",
       "    <tr>\n",
       "      <th>4321</th>\n",
       "      <td>51.0</td>\n",
       "      <td>Male</td>\n",
       "      <td>PhD</td>\n",
       "      <td>Data Scientist</td>\n",
       "      <td>24.0</td>\n",
       "      <td>240000.0</td>\n",
       "      <td>215520.0</td>\n",
       "    </tr>\n",
       "  </tbody>\n",
       "</table>\n",
       "</div>"
      ],
      "text/plain": [
       "       Age Gender    Education Level                 Job Title  \\\n",
       "83    52.0   Male                PhD  Chief Technology Officer   \n",
       "30    50.0   Male         Bachelor's                       CEO   \n",
       "5001  45.0   Male  Bachelor's Degree         Financial Manager   \n",
       "4276  51.0   Male                PhD            Data Scientist   \n",
       "4306  51.0   Male                PhD            Data Scientist   \n",
       "4291  51.0   Male                PhD            Data Scientist   \n",
       "4336  51.0   Male                PhD            Data Scientist   \n",
       "4351  51.0   Male                PhD            Data Scientist   \n",
       "4381  51.0   Male                PhD            Data Scientist   \n",
       "4321  51.0   Male                PhD            Data Scientist   \n",
       "\n",
       "      Years of Experience    Salary  Original Salary  \n",
       "83                   24.0  250000.0         224500.0  \n",
       "30                   25.0  250000.0         224500.0  \n",
       "5001                 21.0  250000.0         224500.0  \n",
       "4276                 24.0  240000.0         215520.0  \n",
       "4306                 24.0  240000.0         215520.0  \n",
       "4291                 24.0  240000.0         215520.0  \n",
       "4336                 24.0  240000.0         215520.0  \n",
       "4351                 24.0  240000.0         215520.0  \n",
       "4381                 24.0  240000.0         215520.0  \n",
       "4321                 24.0  240000.0         215520.0  "
      ]
     },
     "execution_count": 17,
     "metadata": {},
     "output_type": "execute_result"
    }
   ],
   "source": [
    "top_highest = salary.sort_values('Original Salary', ascending=False)\n",
    "top_highest.head(10)"
   ]
  },
  {
   "cell_type": "code",
   "execution_count": 18,
   "id": "919e70d4",
   "metadata": {},
   "outputs": [],
   "source": [
    "salary = salary.drop_duplicates()"
   ]
  },
  {
   "cell_type": "code",
   "execution_count": 19,
   "id": "61d92ebc",
   "metadata": {},
   "outputs": [
    {
     "data": {
      "text/html": [
       "<div>\n",
       "<style scoped>\n",
       "    .dataframe tbody tr th:only-of-type {\n",
       "        vertical-align: middle;\n",
       "    }\n",
       "\n",
       "    .dataframe tbody tr th {\n",
       "        vertical-align: top;\n",
       "    }\n",
       "\n",
       "    .dataframe thead th {\n",
       "        text-align: right;\n",
       "    }\n",
       "</style>\n",
       "<table border=\"1\" class=\"dataframe\">\n",
       "  <thead>\n",
       "    <tr style=\"text-align: right;\">\n",
       "      <th></th>\n",
       "      <th>Age</th>\n",
       "      <th>Gender</th>\n",
       "      <th>Education Level</th>\n",
       "      <th>Job Title</th>\n",
       "      <th>Years of Experience</th>\n",
       "      <th>Salary</th>\n",
       "      <th>Original Salary</th>\n",
       "    </tr>\n",
       "  </thead>\n",
       "  <tbody>\n",
       "    <tr>\n",
       "      <th>83</th>\n",
       "      <td>52.0</td>\n",
       "      <td>Male</td>\n",
       "      <td>PhD</td>\n",
       "      <td>Chief Technology Officer</td>\n",
       "      <td>24.0</td>\n",
       "      <td>250000.0</td>\n",
       "      <td>224500.0</td>\n",
       "    </tr>\n",
       "    <tr>\n",
       "      <th>5001</th>\n",
       "      <td>45.0</td>\n",
       "      <td>Male</td>\n",
       "      <td>Bachelor's Degree</td>\n",
       "      <td>Financial Manager</td>\n",
       "      <td>21.0</td>\n",
       "      <td>250000.0</td>\n",
       "      <td>224500.0</td>\n",
       "    </tr>\n",
       "    <tr>\n",
       "      <th>30</th>\n",
       "      <td>50.0</td>\n",
       "      <td>Male</td>\n",
       "      <td>Bachelor's</td>\n",
       "      <td>CEO</td>\n",
       "      <td>25.0</td>\n",
       "      <td>250000.0</td>\n",
       "      <td>224500.0</td>\n",
       "    </tr>\n",
       "    <tr>\n",
       "      <th>4276</th>\n",
       "      <td>51.0</td>\n",
       "      <td>Male</td>\n",
       "      <td>PhD</td>\n",
       "      <td>Data Scientist</td>\n",
       "      <td>24.0</td>\n",
       "      <td>240000.0</td>\n",
       "      <td>215520.0</td>\n",
       "    </tr>\n",
       "    <tr>\n",
       "      <th>4397</th>\n",
       "      <td>49.0</td>\n",
       "      <td>Male</td>\n",
       "      <td>Master's Degree</td>\n",
       "      <td>Marketing Manager</td>\n",
       "      <td>23.0</td>\n",
       "      <td>228000.0</td>\n",
       "      <td>204744.0</td>\n",
       "    </tr>\n",
       "    <tr>\n",
       "      <th>4152</th>\n",
       "      <td>50.0</td>\n",
       "      <td>Male</td>\n",
       "      <td>PhD</td>\n",
       "      <td>Data Scientist</td>\n",
       "      <td>23.0</td>\n",
       "      <td>225000.0</td>\n",
       "      <td>202050.0</td>\n",
       "    </tr>\n",
       "    <tr>\n",
       "      <th>4027</th>\n",
       "      <td>49.0</td>\n",
       "      <td>Male</td>\n",
       "      <td>PhD</td>\n",
       "      <td>Data Scientist</td>\n",
       "      <td>22.0</td>\n",
       "      <td>220000.0</td>\n",
       "      <td>197560.0</td>\n",
       "    </tr>\n",
       "    <tr>\n",
       "      <th>105</th>\n",
       "      <td>44.0</td>\n",
       "      <td>Male</td>\n",
       "      <td>PhD</td>\n",
       "      <td>Chief Data Officer</td>\n",
       "      <td>16.0</td>\n",
       "      <td>220000.0</td>\n",
       "      <td>197560.0</td>\n",
       "    </tr>\n",
       "    <tr>\n",
       "      <th>2664</th>\n",
       "      <td>46.0</td>\n",
       "      <td>Male</td>\n",
       "      <td>PhD</td>\n",
       "      <td>Director of Data Science</td>\n",
       "      <td>20.0</td>\n",
       "      <td>220000.0</td>\n",
       "      <td>197560.0</td>\n",
       "    </tr>\n",
       "    <tr>\n",
       "      <th>2260</th>\n",
       "      <td>46.0</td>\n",
       "      <td>Female</td>\n",
       "      <td>PhD</td>\n",
       "      <td>Director of Data Science</td>\n",
       "      <td>20.0</td>\n",
       "      <td>220000.0</td>\n",
       "      <td>197560.0</td>\n",
       "    </tr>\n",
       "  </tbody>\n",
       "</table>\n",
       "</div>"
      ],
      "text/plain": [
       "       Age  Gender    Education Level                 Job Title  \\\n",
       "83    52.0    Male                PhD  Chief Technology Officer   \n",
       "5001  45.0    Male  Bachelor's Degree         Financial Manager   \n",
       "30    50.0    Male         Bachelor's                       CEO   \n",
       "4276  51.0    Male                PhD            Data Scientist   \n",
       "4397  49.0    Male    Master's Degree         Marketing Manager   \n",
       "4152  50.0    Male                PhD            Data Scientist   \n",
       "4027  49.0    Male                PhD            Data Scientist   \n",
       "105   44.0    Male                PhD        Chief Data Officer   \n",
       "2664  46.0    Male                PhD  Director of Data Science   \n",
       "2260  46.0  Female                PhD  Director of Data Science   \n",
       "\n",
       "      Years of Experience    Salary  Original Salary  \n",
       "83                   24.0  250000.0         224500.0  \n",
       "5001                 21.0  250000.0         224500.0  \n",
       "30                   25.0  250000.0         224500.0  \n",
       "4276                 24.0  240000.0         215520.0  \n",
       "4397                 23.0  228000.0         204744.0  \n",
       "4152                 23.0  225000.0         202050.0  \n",
       "4027                 22.0  220000.0         197560.0  \n",
       "105                  16.0  220000.0         197560.0  \n",
       "2664                 20.0  220000.0         197560.0  \n",
       "2260                 20.0  220000.0         197560.0  "
      ]
     },
     "execution_count": 19,
     "metadata": {},
     "output_type": "execute_result"
    }
   ],
   "source": [
    "top_highest = salary.sort_values('Original Salary', ascending=False)\n",
    "top_highest.head(10)"
   ]
  },
  {
   "cell_type": "code",
   "execution_count": 20,
   "id": "6b197a35",
   "metadata": {},
   "outputs": [
    {
     "data": {
      "text/plain": [
       "(1787, 7)"
      ]
     },
     "execution_count": 20,
     "metadata": {},
     "output_type": "execute_result"
    }
   ],
   "source": [
    "salary.shape"
   ]
  },
  {
   "cell_type": "code",
   "execution_count": 21,
   "id": "c132a73a",
   "metadata": {
    "scrolled": true
   },
   "outputs": [
    {
     "name": "stdout",
     "output_type": "stream",
     "text": [
      "       Age  Gender Education Level                  Job Title  \\\n",
      "0     32.0    Male      Bachelor's          Software Engineer   \n",
      "1     28.0  Female        Master's               Data Analyst   \n",
      "2     45.0    Male             PhD             Senior Manager   \n",
      "3     36.0  Female      Bachelor's            Sales Associate   \n",
      "4     52.0    Male        Master's                   Director   \n",
      "...    ...     ...             ...                        ...   \n",
      "6623  43.0  Female        Master's  Digital Marketing Manager   \n",
      "6624  27.0    Male     High School              Sales Manager   \n",
      "6625  33.0  Female      Bachelor's      Director of Marketing   \n",
      "6628  37.0    Male      Bachelor's             Sales Director   \n",
      "6631  30.0  Female      Bachelor's              Sales Manager   \n",
      "\n",
      "      Years of Experience    Salary  Original Salary  \n",
      "0                     5.0   90000.0          80820.0  \n",
      "1                     3.0   65000.0          58370.0  \n",
      "2                    15.0  150000.0         134700.0  \n",
      "3                     7.0   60000.0          53880.0  \n",
      "4                    20.0  200000.0         179600.0  \n",
      "...                   ...       ...              ...  \n",
      "6623                 15.0  150000.0         134700.0  \n",
      "6624                  2.0   40000.0          35920.0  \n",
      "6625                  8.0   80000.0          71840.0  \n",
      "6628                  7.0   90000.0          80820.0  \n",
      "6631                  5.0   70000.0          62860.0  \n",
      "\n",
      "[1787 rows x 7 columns]\n"
     ]
    },
    {
     "name": "stderr",
     "output_type": "stream",
     "text": [
      "C:\\Users\\User10\\AppData\\Local\\Temp\\ipykernel_14384\\3096099690.py:2: SettingWithCopyWarning: \n",
      "A value is trying to be set on a copy of a slice from a DataFrame.\n",
      "Try using .loc[row_indexer,col_indexer] = value instead\n",
      "\n",
      "See the caveats in the documentation: https://pandas.pydata.org/pandas-docs/stable/user_guide/indexing.html#returning-a-view-versus-a-copy\n",
      "  salary['Education Level'] = salary['Education Level'].str.replace(\"Bachelor's Degree\", \"Bachelor's\")\n",
      "C:\\Users\\User10\\AppData\\Local\\Temp\\ipykernel_14384\\3096099690.py:3: SettingWithCopyWarning: \n",
      "A value is trying to be set on a copy of a slice from a DataFrame.\n",
      "Try using .loc[row_indexer,col_indexer] = value instead\n",
      "\n",
      "See the caveats in the documentation: https://pandas.pydata.org/pandas-docs/stable/user_guide/indexing.html#returning-a-view-versus-a-copy\n",
      "  salary['Education Level'] = salary['Education Level'].str.replace(\"Master's Degree\", \"Master's\")\n",
      "C:\\Users\\User10\\AppData\\Local\\Temp\\ipykernel_14384\\3096099690.py:4: SettingWithCopyWarning: \n",
      "A value is trying to be set on a copy of a slice from a DataFrame.\n",
      "Try using .loc[row_indexer,col_indexer] = value instead\n",
      "\n",
      "See the caveats in the documentation: https://pandas.pydata.org/pandas-docs/stable/user_guide/indexing.html#returning-a-view-versus-a-copy\n",
      "  salary['Education Level'] = salary['Education Level'].str.replace(\"phD\", \"PhD\", case=False)\n"
     ]
    }
   ],
   "source": [
    "# Replace values in the 'EducationLevel' column\n",
    "salary['Education Level'] = salary['Education Level'].str.replace(\"Bachelor's Degree\", \"Bachelor's\")\n",
    "salary['Education Level'] = salary['Education Level'].str.replace(\"Master's Degree\", \"Master's\")\n",
    "salary['Education Level'] = salary['Education Level'].str.replace(\"phD\", \"PhD\", case=False)\n",
    "\n",
    "# Print the modified DataFrame\n",
    "print(salary)"
   ]
  },
  {
   "cell_type": "code",
   "execution_count": 22,
   "id": "5e723527",
   "metadata": {},
   "outputs": [],
   "source": [
    "education_gender = salary.groupby(['Education Level', 'Gender']).size().unstack()"
   ]
  },
  {
   "cell_type": "code",
   "execution_count": 23,
   "id": "1d8031cf",
   "metadata": {},
   "outputs": [
    {
     "data": {
      "text/html": [
       "<div>\n",
       "<style scoped>\n",
       "    .dataframe tbody tr th:only-of-type {\n",
       "        vertical-align: middle;\n",
       "    }\n",
       "\n",
       "    .dataframe tbody tr th {\n",
       "        vertical-align: top;\n",
       "    }\n",
       "\n",
       "    .dataframe thead th {\n",
       "        text-align: right;\n",
       "    }\n",
       "</style>\n",
       "<table border=\"1\" class=\"dataframe\">\n",
       "  <thead>\n",
       "    <tr style=\"text-align: right;\">\n",
       "      <th>Gender</th>\n",
       "      <th>Female</th>\n",
       "      <th>Male</th>\n",
       "      <th>Other</th>\n",
       "    </tr>\n",
       "    <tr>\n",
       "      <th>Education Level</th>\n",
       "      <th></th>\n",
       "      <th></th>\n",
       "      <th></th>\n",
       "    </tr>\n",
       "  </thead>\n",
       "  <tbody>\n",
       "    <tr>\n",
       "      <th>Bachelor's</th>\n",
       "      <td>328.0</td>\n",
       "      <td>440.0</td>\n",
       "      <td>NaN</td>\n",
       "    </tr>\n",
       "    <tr>\n",
       "      <th>High School</th>\n",
       "      <td>51.0</td>\n",
       "      <td>53.0</td>\n",
       "      <td>6.0</td>\n",
       "    </tr>\n",
       "    <tr>\n",
       "      <th>Master's</th>\n",
       "      <td>312.0</td>\n",
       "      <td>255.0</td>\n",
       "      <td>1.0</td>\n",
       "    </tr>\n",
       "    <tr>\n",
       "      <th>PhD</th>\n",
       "      <td>123.0</td>\n",
       "      <td>218.0</td>\n",
       "      <td>NaN</td>\n",
       "    </tr>\n",
       "  </tbody>\n",
       "</table>\n",
       "</div>"
      ],
      "text/plain": [
       "Gender           Female   Male  Other\n",
       "Education Level                      \n",
       "Bachelor's        328.0  440.0    NaN\n",
       "High School        51.0   53.0    6.0\n",
       "Master's          312.0  255.0    1.0\n",
       "PhD               123.0  218.0    NaN"
      ]
     },
     "execution_count": 23,
     "metadata": {},
     "output_type": "execute_result"
    }
   ],
   "source": [
    "education_gender"
   ]
  },
  {
   "cell_type": "code",
   "execution_count": 24,
   "id": "c775dc12",
   "metadata": {
    "scrolled": false
   },
   "outputs": [
    {
     "data": {
      "image/png": "[encoded data removed]",
      "text/plain": [
       "<Figure size 640x480 with 1 Axes>"
      ]
     },
     "metadata": {},
     "output_type": "display_data"
    }
   ],
   "source": [
    "# Plot the graph\n",
    "education_gender.plot(kind='bar')\n",
    "\n",
    "# Add labels and title\n",
    "plt.xlabel('Gender')\n",
    "plt.ylabel('Count')\n",
    "plt.title('Gender vs Education')\n",
    "\n",
    "# Display the graph\n",
    "plt.show()"
   ]
  },
  {
   "cell_type": "code",
   "execution_count": 25,
   "id": "5b91a628",
   "metadata": {},
   "outputs": [
    {
     "data": {
      "text/plain": [
       "count     1787\n",
       "unique       3\n",
       "top       Male\n",
       "freq       966\n",
       "Name: Gender, dtype: object"
      ]
     },
     "execution_count": 25,
     "metadata": {},
     "output_type": "execute_result"
    }
   ],
   "source": [
    "salary['Gender'].describe(include='all')"
   ]
  },
  {
   "cell_type": "code",
   "execution_count": 26,
   "id": "1d904fc8",
   "metadata": {},
   "outputs": [
    {
     "name": "stdout",
     "output_type": "stream",
     "text": [
      "['Male' 'Female' 'Other']\n"
     ]
    }
   ],
   "source": [
    "unique = salary['Gender'].unique()\n",
    "\n",
    "# Print the unique values\n",
    "print(unique)"
   ]
  },
  {
   "cell_type": "code",
   "execution_count": 27,
   "id": "9b142b91",
   "metadata": {},
   "outputs": [
    {
     "data": {
      "text/plain": [
       "Software Engineer Manager    127\n",
       "Full Stack Engineer          122\n",
       "Senior Software Engineer      96\n",
       "Senior Project Engineer       95\n",
       "Back end Developer            81\n",
       "                            ... \n",
       "Financial Advisor              1\n",
       "Junior Designer                1\n",
       "Chief Technology Officer       1\n",
       "Technical Recruiter            1\n",
       "Delivery Driver                1\n",
       "Name: Job Title, Length: 191, dtype: int64"
      ]
     },
     "execution_count": 27,
     "metadata": {},
     "output_type": "execute_result"
    }
   ],
   "source": [
    "#Count most popular job \n",
    "salary['Job Title'].value_counts()"
   ]
  },
  {
   "cell_type": "code",
   "execution_count": 28,
   "id": "7b0816b8",
   "metadata": {
    "scrolled": false
   },
   "outputs": [
    {
     "name": "stdout",
     "output_type": "stream",
     "text": [
      "Job Title\n",
      "Account Manager              75000.000000\n",
      "Accountant                   55000.000000\n",
      "Administrative Assistant     50000.000000\n",
      "Back end Developer           99463.037037\n",
      "Business Analyst             77500.000000\n",
      "                                ...      \n",
      "UX Designer                  80000.000000\n",
      "UX Researcher                65000.000000\n",
      "VP of Finance               200000.000000\n",
      "VP of Operations            190000.000000\n",
      "Web Developer                65294.117647\n",
      "Name: Salary, Length: 191, dtype: float64\n"
     ]
    }
   ],
   "source": [
    "Mean_salary = salary.groupby('Job Title')['Salary'].mean()\n",
    "print(Mean_salary)"
   ]
  },
  {
   "cell_type": "code",
   "execution_count": 29,
   "id": "5b3977a3",
   "metadata": {},
   "outputs": [
    {
     "name": "stdout",
     "output_type": "stream",
     "text": [
      "Job Title\n",
      "CEO                            250000.0\n",
      "Chief Technology Officer       250000.0\n",
      "Chief Data Officer             220000.0\n",
      "Director                       200000.0\n",
      "Director of Data Science       200000.0\n",
      "VP of Finance                  200000.0\n",
      "Operations Director            190000.0\n",
      "VP of Operations               190000.0\n",
      "Director of Human Resources    187500.0\n",
      "Director of Engineering        180000.0\n",
      "Name: Salary, dtype: float64\n"
     ]
    }
   ],
   "source": [
    "top_10_mean = Mean_salary.nlargest(10)\n",
    "print(top_10_mean)"
   ]
  },
  {
   "cell_type": "code",
   "execution_count": 30,
   "id": "52f1242c",
   "metadata": {
    "scrolled": false
   },
   "outputs": [
    {
     "data": {
      "text/plain": [
       "<Figure size 1200x600 with 0 Axes>"
      ]
     },
     "metadata": {},
     "output_type": "display_data"
    },
    {
     "data": {
      "image/png": "[encoded data removed]",
      "text/plain": [
       "<Figure size 640x480 with 1 Axes>"
      ]
     },
     "metadata": {},
     "output_type": "display_data"
    }
   ],
   "source": [
    "top_job=salary['Job Title'].value_counts().head(5).index\n",
    "\n",
    "# Filter the data for the top Job Titles\n",
    "filtered_data = salary[salary['Job Title'].isin(top_job)]\n",
    "cross_tab = pd.crosstab([filtered_data['Education Level'], filtered_data['Job Title']], filtered_data['Gender'])\n",
    "\n",
    "# Create a stacked bar plot\n",
    "plt.figure(figsize=(12, 6))\n",
    "cross_tab.plot(kind='bar', stacked=True)\n",
    "plt.xlabel('Education Level - Job Title')\n",
    "plt.ylabel('Count')\n",
    "plt.title('Education Level vs Job Title by Gender')\n",
    "plt.legend(title='Gender')\n",
    "plt.xticks(rotation=45, ha='right')\n",
    "plt.tight_layout()\n",
    "plt.show()"
   ]
  },
  {
   "cell_type": "code",
   "execution_count": 31,
   "id": "1311c4b4",
   "metadata": {},
   "outputs": [
    {
     "name": "stdout",
     "output_type": "stream",
     "text": [
      "Correlation between Salary and Education Level: -0.8114858857400234\n"
     ]
    },
    {
     "name": "stderr",
     "output_type": "stream",
     "text": [
      "C:\\Users\\User10\\AppData\\Local\\Temp\\ipykernel_14384\\3354439947.py:8: SettingWithCopyWarning: \n",
      "A value is trying to be set on a copy of a slice from a DataFrame.\n",
      "Try using .loc[row_indexer,col_indexer] = value instead\n",
      "\n",
      "See the caveats in the documentation: https://pandas.pydata.org/pandas-docs/stable/user_guide/indexing.html#returning-a-view-versus-a-copy\n",
      "  salary['EducationLevelNum'] = salary['Education Level'].map(education_mapping)\n"
     ]
    }
   ],
   "source": [
    "education_mapping = {\n",
    "    \"PhD\": 1,\n",
    "    \"Master's Degree\": 2,\n",
    "    \"Bachelor's Degree\": 3,\n",
    "    \"High School\": 4\n",
    "\n",
    "}\n",
    "salary['EducationLevelNum'] = salary['Education Level'].map(education_mapping)\n",
    "\n",
    "# Calculate the correlation between Original Salary and EducationLevelNum\n",
    "correlation = salary['Original Salary'].corr(salary['EducationLevelNum'])\n",
    "\n",
    "print(\"Correlation between Salary and Education Level:\", correlation)"
   ]
  },
  {
   "cell_type": "code",
   "execution_count": 32,
   "id": "5ef464fd",
   "metadata": {},
   "outputs": [
    {
     "data": {
      "image/png": "[encoded data removed]",
      "text/plain": [
       "<Figure size 640x480 with 1 Axes>"
      ]
     },
     "metadata": {},
     "output_type": "display_data"
    }
   ],
   "source": [
    "grouped_data = salary.groupby('Education Level')\n",
    "salary_data = []\n",
    "\n",
    "# Iterate over each education level group\n",
    "for education_level, group in grouped_data:\n",
    "    salary_data.append(group['Original Salary'])\n",
    "\n",
    "# Create a figure and axes for the boxplot\n",
    "fig, ax = plt.subplots()\n",
    "\n",
    "# Create the boxplot\n",
    "ax.boxplot(salary_data, labels=grouped_data.groups.keys())\n",
    "\n",
    "# Set axis labels\n",
    "ax.set_xlabel('Education Level')\n",
    "ax.set_ylabel('Salary now')\n",
    "\n",
    "# Set title\n",
    "plt.title('Boxplot of Original Salary by Education Level')\n",
    "\n",
    "# Show the plot\n",
    "plt.show()\n"
   ]
  },
  {
   "cell_type": "code",
   "execution_count": null,
   "id": "c371df06",
   "metadata": {},
   "outputs": [],
   "source": []
  },
  {
   "cell_type": "code",
   "execution_count": null,
   "id": "be3a57d3",
   "metadata": {},
   "outputs": [],
   "source": []
  },
  {
   "cell_type": "code",
   "execution_count": null,
   "id": "0f228348",
   "metadata": {},
   "outputs": [],
   "source": []
  },
  {
   "cell_type": "code",
   "execution_count": null,
   "id": "6e541a7b",
   "metadata": {},
   "outputs": [],
   "source": []
  },
  {
   "cell_type": "code",
   "execution_count": null,
   "id": "f128370b",
   "metadata": {},
   "outputs": [],
   "source": []
  },
  {
   "cell_type": "code",
   "execution_count": null,
   "id": "2489b009",
   "metadata": {},
   "outputs": [],
   "source": []
  },
  {
   "cell_type": "code",
   "execution_count": null,
   "id": "7410dd9b",
   "metadata": {},
   "outputs": [],
   "source": []
  }
 ],
 "metadata": {
  "kernelspec": {
   "display_name": "Python 3 (ipykernel)",
   "language": "python",
   "name": "python3"
  },
  "language_info": {
   "codemirror_mode": {
    "name": "ipython",
    "version": 3
   },
   "file_extension": ".py",
   "mimetype": "text/x-python",
   "name": "python",
   "nbconvert_exporter": "python",
   "pygments_lexer": "ipython3",
   "version": "3.9.13"
  }
 },
 "nbformat": 4,
 "nbformat_minor": 5
}
