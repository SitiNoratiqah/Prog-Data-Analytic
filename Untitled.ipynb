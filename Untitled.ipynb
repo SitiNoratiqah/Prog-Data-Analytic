{
 "cells": [
  {
   "cell_type": "code",
   "execution_count": 2,
   "id": "8a19dd5c",
   "metadata": {},
   "outputs": [
    {
     "name": "stdout",
     "output_type": "stream",
     "text": [
      "Hello World\n"
     ]
    }
   ],
   "source": [
    "print (\"Hello World\")"
   ]
  },
  {
   "cell_type": "code",
   "execution_count": 3,
   "id": "02c8df79",
   "metadata": {},
   "outputs": [],
   "source": [
    "person = { 'name': 'Zed', 'age':39,  'height':6*12 + 2}"
   ]
  },
  {
   "cell_type": "code",
   "execution_count": 5,
   "id": "631eef69",
   "metadata": {},
   "outputs": [
    {
     "name": "stdout",
     "output_type": "stream",
     "text": [
      "<class 'dict'>\n"
     ]
    }
   ],
   "source": [
    "print(type(person))"
   ]
  },
  {
   "cell_type": "code",
   "execution_count": 11,
   "id": "a6de7f3e",
   "metadata": {},
   "outputs": [
    {
     "name": "stdout",
     "output_type": "stream",
     "text": [
      "Zed\n"
     ]
    }
   ],
   "source": [
    "print(person['name']) #or you can use "
   ]
  },
  {
   "cell_type": "code",
   "execution_count": 10,
   "id": "0afef9de",
   "metadata": {},
   "outputs": [
    {
     "name": "stdout",
     "output_type": "stream",
     "text": [
      "Zed\n"
     ]
    }
   ],
   "source": [
    "print(person.get('name'))"
   ]
  },
  {
   "cell_type": "code",
   "execution_count": 12,
   "id": "dab07736",
   "metadata": {},
   "outputs": [
    {
     "name": "stdout",
     "output_type": "stream",
     "text": [
      "None\n"
     ]
    }
   ],
   "source": [
    "print(person.get('state'))"
   ]
  },
  {
   "cell_type": "code",
   "execution_count": 17,
   "id": "4b5d5161",
   "metadata": {},
   "outputs": [
    {
     "name": "stdout",
     "output_type": "stream",
     "text": [
      "{'name': 'John', 'age': 40, 'height': 74, 'college': True, 'city': 'Philadelphia'}\n"
     ]
    }
   ],
   "source": [
    "person['name'] = \"John\" #update value with key ‘name’ \n",
    "person['age'] += 1 #increment value with key ‘age’ \n",
    "person['college'] = True #add value with key ‘college’ \n",
    "person['city'] = \"Philadelphia\" #add value with key ‘city’ \n",
    "print(person) "
   ]
  },
  {
   "cell_type": "code",
   "execution_count": 18,
   "id": "bcfd78ab",
   "metadata": {},
   "outputs": [
    {
     "name": "stdout",
     "output_type": "stream",
     "text": [
      "True\n"
     ]
    }
   ],
   "source": [
    "print('college' in person)"
   ]
  },
  {
   "cell_type": "code",
   "execution_count": 20,
   "id": "44f1c318",
   "metadata": {},
   "outputs": [],
   "source": [
    "del person['college']"
   ]
  },
  {
   "cell_type": "code",
   "execution_count": 22,
   "id": "11d3c09c",
   "metadata": {},
   "outputs": [
    {
     "name": "stdout",
     "output_type": "stream",
     "text": [
      "{'name': 'John', 'age': 40, 'height': 74, 'city': 'Philadelphia'}\n"
     ]
    }
   ],
   "source": [
    "print (person)"
   ]
  },
  {
   "cell_type": "code",
   "execution_count": 23,
   "id": "d0d703ea",
   "metadata": {},
   "outputs": [],
   "source": [
    "person['siblings'] = ['Cory']"
   ]
  },
  {
   "cell_type": "code",
   "execution_count": 25,
   "id": "281dcdd0",
   "metadata": {},
   "outputs": [],
   "source": [
    "person['siblings'].append('Betsy')"
   ]
  },
  {
   "cell_type": "code",
   "execution_count": 26,
   "id": "86bb29ec",
   "metadata": {},
   "outputs": [
    {
     "name": "stdout",
     "output_type": "stream",
     "text": [
      "{'name': 'John', 'age': 40, 'height': 74, 'city': 'Philadelphia', 'siblings': ['Cory', 'Betsy', 'Betsy']}\n"
     ]
    }
   ],
   "source": [
    "print(person)"
   ]
  },
  {
   "cell_type": "code",
   "execution_count": 30,
   "id": "cc728dad",
   "metadata": {},
   "outputs": [],
   "source": [
    "person_attributes = {'marital status': 'married', 'children':3}"
   ]
  },
  {
   "cell_type": "code",
   "execution_count": 32,
   "id": "d0e8c874",
   "metadata": {},
   "outputs": [],
   "source": [
    "person.update (person_attributes)"
   ]
  },
  {
   "cell_type": "code",
   "execution_count": 33,
   "id": "b1b42a24",
   "metadata": {},
   "outputs": [
    {
     "name": "stdout",
     "output_type": "stream",
     "text": [
      "{'name': 'John', 'age': 40, 'height': 74, 'city': 'Philadelphia', 'siblings': ['Cory', 'Betsy', 'Betsy'], 'marital status': 'married', 'children': 3}\n"
     ]
    }
   ],
   "source": [
    "print(person)"
   ]
  },
  {
   "cell_type": "code",
   "execution_count": 47,
   "id": "96d7d5c5",
   "metadata": {},
   "outputs": [],
   "source": [
    "course = {}"
   ]
  },
  {
   "cell_type": "code",
   "execution_count": 58,
   "id": "d18dc014",
   "metadata": {},
   "outputs": [],
   "source": [
    "course['CIS590'] = 'Intro to Programming'"
   ]
  },
  {
   "cell_type": "code",
   "execution_count": 59,
   "id": "1da6972f",
   "metadata": {},
   "outputs": [],
   "source": [
    "course.update ({'CIS590': 'Big Data'}) #add new elements"
   ]
  },
  {
   "cell_type": "code",
   "execution_count": 60,
   "id": "155b2102",
   "metadata": {},
   "outputs": [
    {
     "name": "stdout",
     "output_type": "stream",
     "text": [
      "Big Data\n"
     ]
    }
   ],
   "source": [
    "print(course['CIS590'])"
   ]
  },
  {
   "cell_type": "code",
   "execution_count": 61,
   "id": "039aeabc",
   "metadata": {},
   "outputs": [
    {
     "data": {
      "text/plain": [
       "{'CIT590': 'Intro to Programming', 'CIS590': 'Big Data'}"
      ]
     },
     "execution_count": 61,
     "metadata": {},
     "output_type": "execute_result"
    }
   ],
   "source": [
    "course"
   ]
  },
  {
   "cell_type": "code",
   "execution_count": 67,
   "id": "04e0c493",
   "metadata": {},
   "outputs": [],
   "source": [
    "list1 = ['1', 'dog', 'cat', '789']"
   ]
  },
  {
   "cell_type": "code",
   "execution_count": 68,
   "id": "1cb68c9b",
   "metadata": {},
   "outputs": [
    {
     "name": "stdout",
     "output_type": "stream",
     "text": [
      "['1', 'dog', 'cat', '789']\n"
     ]
    }
   ],
   "source": [
    "print(list1)"
   ]
  },
  {
   "cell_type": "code",
   "execution_count": 69,
   "id": "ed7e9f16",
   "metadata": {},
   "outputs": [
    {
     "name": "stdout",
     "output_type": "stream",
     "text": [
      "4\n"
     ]
    }
   ],
   "source": [
    "print(len(list1))"
   ]
  },
  {
   "cell_type": "code",
   "execution_count": 72,
   "id": "2df093dc",
   "metadata": {},
   "outputs": [
    {
     "data": {
      "text/plain": [
       "'1'"
      ]
     },
     "execution_count": 72,
     "metadata": {},
     "output_type": "execute_result"
    }
   ],
   "source": [
    "list1[0]"
   ]
  },
  {
   "cell_type": "code",
   "execution_count": 75,
   "id": "7ff5d173",
   "metadata": {},
   "outputs": [],
   "source": [
    "list1.append('Hello') #To add new data dekat hujung list"
   ]
  },
  {
   "cell_type": "code",
   "execution_count": 76,
   "id": "ea0679d3",
   "metadata": {},
   "outputs": [
    {
     "data": {
      "text/plain": [
       "['1', 'dog', 'cat', '789', 'Hello']"
      ]
     },
     "execution_count": 76,
     "metadata": {},
     "output_type": "execute_result"
    }
   ],
   "source": [
    "list1"
   ]
  },
  {
   "cell_type": "code",
   "execution_count": 78,
   "id": "8352c245",
   "metadata": {},
   "outputs": [
    {
     "data": {
      "text/plain": [
       "'Hello'"
      ]
     },
     "execution_count": 78,
     "metadata": {},
     "output_type": "execute_result"
    }
   ],
   "source": [
    "list1.pop() #remove the most last of the list"
   ]
  },
  {
   "cell_type": "code",
   "execution_count": 79,
   "id": "efcca748",
   "metadata": {},
   "outputs": [
    {
     "data": {
      "text/plain": [
       "['1', 'dog', 'cat', '789']"
      ]
     },
     "execution_count": 79,
     "metadata": {},
     "output_type": "execute_result"
    }
   ],
   "source": [
    "list1"
   ]
  },
  {
   "cell_type": "code",
   "execution_count": 83,
   "id": "b4cd7097",
   "metadata": {},
   "outputs": [],
   "source": [
    "list1.remove('789') #remove specific data in list"
   ]
  },
  {
   "cell_type": "code",
   "execution_count": 84,
   "id": "6cbfb105",
   "metadata": {},
   "outputs": [
    {
     "data": {
      "text/plain": [
       "['1', 'dog', 'cat']"
      ]
     },
     "execution_count": 84,
     "metadata": {},
     "output_type": "execute_result"
    }
   ],
   "source": [
    "list1"
   ]
  },
  {
   "cell_type": "code",
   "execution_count": 85,
   "id": "6f069ccb",
   "metadata": {},
   "outputs": [],
   "source": [
    "list1.append('789')"
   ]
  },
  {
   "cell_type": "code",
   "execution_count": 86,
   "id": "8ae98a45",
   "metadata": {},
   "outputs": [
    {
     "data": {
      "text/plain": [
       "['1', 'dog', 'cat', '789']"
      ]
     },
     "execution_count": 86,
     "metadata": {},
     "output_type": "execute_result"
    }
   ],
   "source": [
    "list1"
   ]
  },
  {
   "cell_type": "code",
   "execution_count": 87,
   "id": "850da618",
   "metadata": {},
   "outputs": [
    {
     "name": "stdout",
     "output_type": "stream",
     "text": [
      "True\n"
     ]
    }
   ],
   "source": [
    "print('dog' in list1)"
   ]
  },
  {
   "cell_type": "code",
   "execution_count": 88,
   "id": "78feb9b5",
   "metadata": {},
   "outputs": [],
   "source": [
    "keys_lst = ['Joey', 'Fred', 'Katie']"
   ]
  },
  {
   "cell_type": "code",
   "execution_count": 89,
   "id": "a234ce21",
   "metadata": {},
   "outputs": [],
   "source": [
    "value_lst = [6,4, '2 months']"
   ]
  },
  {
   "cell_type": "code",
   "execution_count": 90,
   "id": "85f307b0",
   "metadata": {},
   "outputs": [],
   "source": [
    "zipped = zip(keys_lst, value_lst)"
   ]
  },
  {
   "cell_type": "code",
   "execution_count": 91,
   "id": "b70c4194",
   "metadata": {},
   "outputs": [
    {
     "name": "stdout",
     "output_type": "stream",
     "text": [
      "<class 'zip'>\n"
     ]
    }
   ],
   "source": [
    "print(type(zipped))"
   ]
  },
  {
   "cell_type": "code",
   "execution_count": 92,
   "id": "8c3eeb69",
   "metadata": {},
   "outputs": [],
   "source": [
    "kids_ages = dict(zipped)"
   ]
  },
  {
   "cell_type": "code",
   "execution_count": 93,
   "id": "2dc804f7",
   "metadata": {},
   "outputs": [
    {
     "name": "stdout",
     "output_type": "stream",
     "text": [
      "{'Joey': 6, 'Fred': 4, 'Katie': '2 months'}\n"
     ]
    }
   ],
   "source": [
    "print(kids_ages)"
   ]
  },
  {
   "cell_type": "code",
   "execution_count": 94,
   "id": "017259d5",
   "metadata": {},
   "outputs": [
    {
     "name": "stdout",
     "output_type": "stream",
     "text": [
      "4\n"
     ]
    }
   ],
   "source": [
    "print(kids_ages['Fred'])"
   ]
  },
  {
   "cell_type": "code",
   "execution_count": 95,
   "id": "5f4bbd5d",
   "metadata": {},
   "outputs": [],
   "source": [
    "numbers = [1,2,3,4,5,6,7,8,9,10]"
   ]
  },
  {
   "cell_type": "code",
   "execution_count": 97,
   "id": "d031d350",
   "metadata": {},
   "outputs": [
    {
     "name": "stdout",
     "output_type": "stream",
     "text": [
      "1\n",
      "2\n",
      "3\n",
      "4\n",
      "5\n",
      "6\n",
      "7\n",
      "8\n",
      "9\n",
      "10\n"
     ]
    }
   ],
   "source": [
    "for numbers in numbers: \n",
    "    print(numbers)"
   ]
  },
  {
   "cell_type": "code",
   "execution_count": 104,
   "id": "97b6755c",
   "metadata": {},
   "outputs": [
    {
     "name": "stdout",
     "output_type": "stream",
     "text": [
      "[2, 4, 6, 8, 10]\n"
     ]
    }
   ],
   "source": [
    "numbers\n",
    "even_numbers = []\n",
    "\n",
    "for number in numbers:\n",
    "    if (number % 2 == 0):\n",
    "        even_numbers.append(number)\n",
    "\n",
    "print(even_numbers)"
   ]
  },
  {
   "cell_type": "code",
   "execution_count": 106,
   "id": "c2a51b44",
   "metadata": {},
   "outputs": [
    {
     "name": "stdout",
     "output_type": "stream",
     "text": [
      "[1, 3, 5, 7, 9]\n"
     ]
    }
   ],
   "source": [
    "numbers\n",
    "odd_numbers = []\n",
    "\n",
    "for number in numbers:\n",
    "    if (number % 2 != 0):\n",
    "        odd_numbers.append(number)\n",
    "\n",
    "print(odd_numbers)"
   ]
  },
  {
   "cell_type": "code",
   "execution_count": 107,
   "id": "fb2f7953",
   "metadata": {},
   "outputs": [],
   "source": [
    "planets = ['Sun', 'Mercury', 'Venus', 'Earth', 'Mars']"
   ]
  },
  {
   "cell_type": "code",
   "execution_count": 109,
   "id": "22ba5e3d",
   "metadata": {},
   "outputs": [
    {
     "name": "stdout",
     "output_type": "stream",
     "text": [
      "Sun is not a planet\n",
      "Mercury is a planet\n",
      "Mercury is closest to the Sun\n",
      "Venus is a planet\n",
      "Earth is a planet\n",
      "Mars is a planet\n"
     ]
    }
   ],
   "source": [
    "for planet in planets:\n",
    "    if (planet == 'Sun'):\n",
    "        print(planet, \"is not a planet\")\n",
    "    else:\n",
    "        print(planet, \"is a planet\")\n",
    "        \n",
    "    if (planet == 'Mercury'):\n",
    "        print(planet, \"is closest to the Sun\")"
   ]
  },
  {
   "cell_type": "code",
   "execution_count": 110,
   "id": "ce6a9633",
   "metadata": {},
   "outputs": [],
   "source": [
    "month = \"February\""
   ]
  },
  {
   "cell_type": "code",
   "execution_count": 111,
   "id": "ca9f5a5f",
   "metadata": {},
   "outputs": [
    {
     "data": {
      "text/plain": [
       "'February'"
      ]
     },
     "execution_count": 111,
     "metadata": {},
     "output_type": "execute_result"
    }
   ],
   "source": [
    "month"
   ]
  },
  {
   "cell_type": "code",
   "execution_count": 112,
   "id": "d3a8e416",
   "metadata": {},
   "outputs": [
    {
     "name": "stdout",
     "output_type": "stream",
     "text": [
      "February is spelled: \n"
     ]
    }
   ],
   "source": [
    "print (month, \"is spelled: \")"
   ]
  },
  {
   "cell_type": "code",
   "execution_count": 114,
   "id": "08e45b40",
   "metadata": {},
   "outputs": [
    {
     "name": "stdout",
     "output_type": "stream",
     "text": [
      "F\n",
      "e\n",
      "b\n",
      "r\n",
      "u\n",
      "a\n",
      "r\n",
      "y\n"
     ]
    }
   ],
   "source": [
    "for x in month:\n",
    "    print(x)"
   ]
  },
  {
   "cell_type": "code",
   "execution_count": 115,
   "id": "7f94560d",
   "metadata": {},
   "outputs": [],
   "source": [
    "month = [\"January\", \"February\"]"
   ]
  },
  {
   "cell_type": "code",
   "execution_count": 116,
   "id": "b91f10db",
   "metadata": {},
   "outputs": [
    {
     "data": {
      "text/plain": [
       "['January', 'February']"
      ]
     },
     "execution_count": 116,
     "metadata": {},
     "output_type": "execute_result"
    }
   ],
   "source": [
    "month"
   ]
  },
  {
   "cell_type": "code",
   "execution_count": 117,
   "id": "78ea2a5f",
   "metadata": {},
   "outputs": [],
   "source": [
    "month.append(\"March\")"
   ]
  },
  {
   "cell_type": "code",
   "execution_count": 118,
   "id": "84f0b3e1",
   "metadata": {},
   "outputs": [
    {
     "data": {
      "text/plain": [
       "['January', 'February', 'March']"
      ]
     },
     "execution_count": 118,
     "metadata": {},
     "output_type": "execute_result"
    }
   ],
   "source": [
    "month"
   ]
  },
  {
   "cell_type": "code",
   "execution_count": 119,
   "id": "d16ff5e4",
   "metadata": {},
   "outputs": [
    {
     "name": "stdout",
     "output_type": "stream",
     "text": [
      "x is now: 1\n",
      "x is now: 2\n",
      "x is now: 3\n",
      "x is now: 4\n"
     ]
    }
   ],
   "source": [
    "x = 1\n",
    "while x <= 10:\n",
    "    if x == 5:\n",
    "        break #this exits the entire while loop!\n",
    "    \n",
    "    print(\"x is now:\", x)\n",
    "    x += 1"
   ]
  },
  {
   "cell_type": "code",
   "execution_count": 122,
   "id": "6ffcc79a",
   "metadata": {},
   "outputs": [
    {
     "name": "stdout",
     "output_type": "stream",
     "text": [
      "1\n",
      "5\n",
      "7\n",
      "11\n",
      "13\n",
      "17\n",
      "19\n"
     ]
    }
   ],
   "source": [
    "for number in range(1,21):\n",
    "    if (number % 2 != 0):\n",
    "        if (number % 3 == 0):\n",
    "            continue\n",
    "        print(number)  #Print odd numbers 1-21, except those multi of 3"
   ]
  },
  {
   "cell_type": "code",
   "execution_count": 127,
   "id": "9b6da71c",
   "metadata": {},
   "outputs": [
    {
     "data": {
      "text/plain": [
       "8"
      ]
     },
     "execution_count": 127,
     "metadata": {},
     "output_type": "execute_result"
    }
   ],
   "source": [
    "def double(x):\n",
    "    return x*2\n",
    "\n",
    "double(4)"
   ]
  },
  {
   "cell_type": "code",
   "execution_count": 125,
   "id": "f0eeabcc",
   "metadata": {},
   "outputs": [
    {
     "data": {
      "text/plain": [
       "8"
      ]
     },
     "execution_count": 125,
     "metadata": {},
     "output_type": "execute_result"
    }
   ],
   "source": [
    "double_1 = lambda x: x*2\n",
    "double_1(4)"
   ]
  },
  {
   "cell_type": "code",
   "execution_count": null,
   "id": "ad13b276",
   "metadata": {},
   "outputs": [],
   "source": []
  }
 ],
 "metadata": {
  "kernelspec": {
   "display_name": "Python 3 (ipykernel)",
   "language": "python",
   "name": "python3"
  },
  "language_info": {
   "codemirror_mode": {
    "name": "ipython",
    "version": 3
   },
   "file_extension": ".py",
   "mimetype": "text/x-python",
   "name": "python",
   "nbconvert_exporter": "python",
   "pygments_lexer": "ipython3",
   "version": "3.9.13"
  }
 },
 "nbformat": 4,
 "nbformat_minor": 5
}
